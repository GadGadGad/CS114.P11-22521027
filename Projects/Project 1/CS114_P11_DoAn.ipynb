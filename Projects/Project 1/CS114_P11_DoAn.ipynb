{
 "cells": [
  {
   "cell_type": "markdown",
   "metadata": {
    "id": "s9F0puZbYlso"
   },
   "source": [
    "# TASK - XÁC ĐỊNH HIỆU XE Ô TÔ TỪ ẢNH\n",
    "\n",
    "Công ty Nguyên Phong muốn phát triển một hệ thống phân loại xe ô tô từ ảnh để tổng hợp thị trường xe hơi của các hãng như Honda, Suzuki, Toyota, Mitsubishi, Mazda, Huyndai, KIA, Peugeot, Volvo, Volkswagen, LandRover, Nissan, Mercedes, VinFast\n",
    "Thành phần cốt lõi của hệ thống phân loại này là module\n",
    "- Input: ảnh chụp xe ô tô\n",
    "- Output: nhãn thuộc một trong các loại: Honda, Suzuki, Toyota, Mitsubishi, Mazda, Huyndai, KIA, Peugeot, Volvo, Volkswagen, LandRover, Nissan, Mercedes, VinFast, không có ô tô, ô tô khác\n",
    "\n",
    "\n"
   ]
  },
  {
   "cell_type": "markdown",
   "metadata": {
    "id": "gCvM61VHiYBH"
   },
   "source": [
    "## Ví dụ:\n",
    "- Input: <IMG SRC='https://i1-vnexpress.vnecdn.net/2023/05/10/Vios-2023-10_1683690128.jpg?w=2400&h=0&q=100&dpr=1&fit=crop&s=LPsTjgivZ2T5xKJYQiVjHg&t=image'>\n",
    "\n",
    "\n",
    "- Output: Toyota"
   ]
  },
  {
   "cell_type": "markdown",
   "metadata": {
    "id": "3rab3QbWYCk8"
   },
   "source": [
    "## Dữ liệu\n",
    "Mỗi SV/nhóm SV thu thập dữ liệu theo yêu cầu sau:\n",
    "- Đặt tên thư mục theo cấu trúc\n",
    "    + Honda (các ảnh của xe ô tô hiệu Honda)\n",
    "    + Mazda\n",
    "    + Mitsubishi\n",
    "    + Suzuki\n",
    "    + Toyota\n",
    "    + Hyundai\n",
    "    + KIA\n",
    "    + VinFast\n",
    "    + Others (các ảnh của xe ô tô loại khác)\n",
    "- Mỗi SV cần thu thập trung bình 10 ảnh khác nhau/loại, thu thập từ Internet (Google Images Search, Bing Images Search, tự chụp thực tế)\n",
    "- Tên ảnh đặt theo quy ước: <DS MSSV cách nhau bằng ->.<Tên hiệu xe>.<Số TT ảnh>\n",
    "    + 20221234-20222345.Honda.1\n",
    "- Độ đa dạng (variations)\n",
    "    + Góc nhìn: đầu xe hướng về trái, về phải, về trước, về sau\n",
    "    + Có người ngồi, hoặc không có người ngồi\n",
    "    + Màu sắc\n",
    "    + Chủng loại - ví dụ Toyota Vios, Toyota Innova, Toyota Corolla Cross\n",
    "- Thư mục upload: https://drive.google.com/drive/u/1/folders/1Uj0V9URNHpzSHeXHSB89AoGCjGki8Yra\n",
    "- Deadline ??/??/2024\n",
    "- Các nhóm sẽ được cung cấp các tập tin gồm:\n",
    "    + train.txt - danh sách các ảnh dùng cho trainining\n",
    "    + test.txt - danh sách các ảnh dùng cho testing"
   ]
  },
  {
   "cell_type": "markdown",
   "metadata": {
    "id": "RXru9YZ1i4Ed"
   },
   "source": [
    "## Code\n",
    "\n",
    "- Các nhóm sẽ được cung cấp notebook về khung của chương trình trong đó có các chức năng gồm\n",
    "    + train: đọc thông tin từ file train.txt và thực hiện training để output ra model.\n",
    "    + test: đọc thông tin từ file test.txt và thực hiện prediction bằng cách load model lên và output ra category/label thương ứng.\n",
    "- Hệ thống sẽ tự động tính performance và hiển thị lên ScoreBoard\n",
    "- Thư mục để cập nhật code: sẽ thông báo sau\n",
    "\n"
   ]
  },
  {
   "cell_type": "markdown",
   "metadata": {
    "id": "piixfWKfi9Mt"
   },
   "source": [
    "## ScoreBoard\n",
    "\n",
    "- Tiếp tục cập nhật"
   ]
  },
  {
   "cell_type": "markdown",
   "metadata": {
    "id": "45ljoKrfbgb_"
   },
   "source": [
    "## Thảo luận\n",
    "\n",
    "- Các SV tham gia nhóm Zalo của lớp CS114.P11 để có thông tin cập nhật"
   ]
  }
 ],
 "metadata": {
  "colab": {
   "provenance": [],
   "toc_visible": true
  },
  "kernelspec": {
   "display_name": "Python 3",
   "name": "python3"
  },
  "language_info": {
   "name": "python"
  }
 },
 "nbformat": 4,
 "nbformat_minor": 0
}
